{
 "cells": [
  {
   "cell_type": "code",
   "execution_count": null,
   "id": "e81aab36-3bfb-4468-aa01-154fa8c4e0ea",
   "metadata": {},
   "outputs": [],
   "source": [
    "Inroduction to string data types\n",
    "difinition: A string is a series of characters declared in quotes.\n",
    "Classification: It is classified as an immutable data type.\n",
    "How to declare the string datatype -> 2 approaches.\n",
    "1. Single quote 2. Double quote\n"
   ]
  },
  {
   "cell_type": "code",
   "execution_count": 1,
   "id": "49e7ae07-7846-4bce-965d-7112b0c7f0f9",
   "metadata": {},
   "outputs": [
    {
     "name": "stdout",
     "output_type": "stream",
     "text": [
      "joseph\n"
     ]
    }
   ],
   "source": [
    "name = 'joseph' # Single quote\n",
    "print(name)"
   ]
  },
  {
   "cell_type": "code",
   "execution_count": 3,
   "id": "2efc09f6-6b3f-4a09-ba28-393f8e500c09",
   "metadata": {},
   "outputs": [
    {
     "name": "stdout",
     "output_type": "stream",
     "text": [
      "joseph\n"
     ]
    }
   ],
   "source": [
    "name2 = \"joseph\" # Double quote\n",
    "print(name2)"
   ]
  },
  {
   "cell_type": "code",
   "execution_count": 4,
   "id": "c3bc5f13-6579-4f6a-91aa-b04c9f888ad4",
   "metadata": {},
   "outputs": [
    {
     "data": {
      "text/plain": [
       "str"
      ]
     },
     "execution_count": 4,
     "metadata": {},
     "output_type": "execute_result"
    }
   ],
   "source": [
    "# Intrdoction to string methods: \n",
    "type(name)"
   ]
  },
  {
   "cell_type": "code",
   "execution_count": 11,
   "id": "5f661021-c436-4b6f-839d-5d0921a5e689",
   "metadata": {},
   "outputs": [
    {
     "name": "stdout",
     "output_type": "stream",
     "text": [
      "abdul mateen\n",
      "Abdul Mateen\n",
      "ABDUL MATEEN\n",
      "abdul mateen\n"
     ]
    }
   ],
   "source": [
    "fullname = \"abdul mateen\"\n",
    "print(fullname)\n",
    "print(fullname.title()) #First letters to be capitalised\n",
    "print(fullname.upper()) # variables to be capitalised\n",
    "print(fullname.lower()) # lowers the variable value"
   ]
  },
  {
   "cell_type": "code",
   "execution_count": null,
   "id": "4def7824-06f2-4a87-bf17-8244757e38ac",
   "metadata": {},
   "outputs": [],
   "source": []
  }
 ],
 "metadata": {
  "kernelspec": {
   "display_name": "Python 3 (ipykernel)",
   "language": "python",
   "name": "python3"
  },
  "language_info": {
   "codemirror_mode": {
    "name": "ipython",
    "version": 3
   },
   "file_extension": ".py",
   "mimetype": "text/x-python",
   "name": "python",
   "nbconvert_exporter": "python",
   "pygments_lexer": "ipython3",
   "version": "3.12.7"
  }
 },
 "nbformat": 4,
 "nbformat_minor": 5
}
